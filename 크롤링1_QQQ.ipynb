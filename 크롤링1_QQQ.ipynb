{
 "cells": [
  {
   "cell_type": "markdown",
   "id": "3deef949-4ee7-4b4d-9fb9-aaacbc2f8293",
   "metadata": {},
   "source": [
    "# QQQ 크롤링"
   ]
  },
  {
   "cell_type": "markdown",
   "id": "f4902860-91a0-4c76-8e21-e0000eaddfb6",
   "metadata": {},
   "source": [
    "웹 페이지는\n",
    " - 정적 웹페이지 - 클릭할게 없어서 내용이 안 바뀌는 페이지\n",
    " - 동적 웹 페이지 - 클릭하면 내용이 바뀌는 페이지\n",
    "\n",
    "이렇게 나누어집니다\n",
    "\n",
    "당연히 정적 웹페이지가 더 쉽고 내용도 간단해서 가져오기도 쉽습니다\n"
   ]
  },
  {
   "cell_type": "markdown",
   "id": "5c99d96f-6fd6-4b1f-a2d2-b773066dc4b6",
   "metadata": {},
   "source": []
  },
  {
   "cell_type": "markdown",
   "id": "46c8a79b-9a49-4afc-bb28-2b91c4e571da",
   "metadata": {},
   "source": [
    "저희가 가져올 페이지\n",
    "\n",
    "https://www.schwab.wallst.com/schwab/Prospect/research/etfs/schwabETF/index.asp?type=holdings&symbol=QQQ\n",
    "\n",
    "이 페이지 들어가보시면 \n",
    "\n",
    "60개로보기 다음 페이지 클릭하기 이런 버튼들 있지 않습니까?\n",
    "\n",
    "안타깝게도 이 버튼들 클릭해서 페이지가 바뀌는\n",
    "\n",
    "동적 웹 페이지 입니다."
   ]
  },
  {
   "cell_type": "markdown",
   "id": "d837a1b2-5641-471a-999f-c38097d9ef65",
   "metadata": {},
   "source": []
  },
  {
   "cell_type": "markdown",
   "id": "3f65432b-128a-4b90-8d2d-3ca006285192",
   "metadata": {},
   "source": [
    "정적 웹페이지 크롤링은 \n",
    "\n",
    "파이썬 코드 창에 \n",
    "\n",
    "!pip install bs4 \n",
    "\n",
    "이거만 실행하면 딱히 더 할건 없는데"
   ]
  },
  {
   "cell_type": "markdown",
   "id": "699f436f-e8c1-4e6d-ae55-5ffd077be188",
   "metadata": {},
   "source": []
  },
  {
   "cell_type": "markdown",
   "id": "b53d0995-fd5c-444f-8ef1-f6595051c421",
   "metadata": {},
   "source": [
    "저희가 해야하는 동적 웹페이지 크롤링은\n",
    "\n",
    "!pip install Selenium 하는건 문제 없는데\n",
    "\n",
    "아마도 코랩에서는 실행이 안될겁니다\n",
    "\n",
    "아마도 driver=Chrome( ) 이 부분에서 오류 뜰 듯 합니다\n",
    "\n",
    "로컬 환경에서 실행해야해서 그런거 같은데 \n",
    "\n",
    "저는 아나콘다 주피터노트북으로 실행했습니다."
   ]
  },
  {
   "cell_type": "markdown",
   "id": "bafebe35-50ea-4304-8819-ce22fed92de7",
   "metadata": {},
   "source": []
  },
  {
   "cell_type": "markdown",
   "id": "0f66f6ee-acf9-4d3a-898f-2e2397f5fc15",
   "metadata": {},
   "source": [
    "아나콘다 설치, 크롬드라이버 설치는 문서 하단에 첨부해두었습니다."
   ]
  },
  {
   "cell_type": "code",
   "execution_count": null,
   "id": "6bdbbc0c-fbed-4161-919e-fafddf82bfd2",
   "metadata": {},
   "outputs": [],
   "source": []
  },
  {
   "cell_type": "markdown",
   "id": "3eccb1c8-257c-4e03-ab25-b41004218581",
   "metadata": {},
   "source": [
    "## 패키지 불러오기"
   ]
  },
  {
   "cell_type": "code",
   "execution_count": null,
   "id": "d3dfb70b-fe2e-4285-b0c2-dee9e91734ad",
   "metadata": {},
   "outputs": [],
   "source": []
  },
  {
   "cell_type": "code",
   "execution_count": 1,
   "id": "974cdd10-53cb-4317-9103-158ab5e140bc",
   "metadata": {},
   "outputs": [],
   "source": [
    "import pandas as pd\n",
    "import numpy as np\n",
    "import requests\n",
    "\n",
    "from io import StringIO\n",
    "from selenium.webdriver import Chrome\n",
    "from selenium.webdriver.common.by import By\n",
    "from selenium.webdriver.support.ui import WebDriverWait\n",
    "from selenium.webdriver.support import expected_conditions as EC"
   ]
  },
  {
   "cell_type": "markdown",
   "id": "36c58538-76da-4c3c-abef-49a2dd27c170",
   "metadata": {},
   "source": [
    "## 1. 크롬 창 띄우기"
   ]
  },
  {
   "cell_type": "code",
   "execution_count": 2,
   "id": "d42fe41e-ad0f-4f96-8ced-75f2d25c0358",
   "metadata": {},
   "outputs": [],
   "source": [
    "driver = Chrome()"
   ]
  },
  {
   "cell_type": "markdown",
   "id": "96bc16e8-1c03-424e-822d-3e858a4a73c3",
   "metadata": {},
   "source": [
    "## 2. 그 크롬 창에 웹사이트 연결하기"
   ]
  },
  {
   "cell_type": "code",
   "execution_count": 3,
   "id": "64f0efea-3ef6-44c8-81ba-ae9c72e55666",
   "metadata": {},
   "outputs": [],
   "source": [
    "url = 'https://www.schwab.wallst.com/schwab/Prospect/research/etfs/schwabETF/index.asp?type=holdings&symbol=QQQ'\n",
    "driver.get(url)"
   ]
  },
  {
   "cell_type": "markdown",
   "id": "a8e465ab-2cdc-44b1-aaeb-3d37b8cfffa3",
   "metadata": {},
   "source": [
    "## 3. 60개로 보기 클릭\n",
    "\n",
    "1. CTRL + SHIFT + C 눌러서 \n",
    "\n",
    "2. 표 밑의 Show 20 40 60 PAGE의 60 클릭\n",
    "\n",
    "3. Elements 창에 <a perpage=60 .... 이라고 되어있는 부분 오른쪽 클릭\n",
    "\n",
    "4. copy의 Copy Xpath 클릭해서 확인하면 //*[@id=\"PaginationContainer\"]/ul[1]/li[4]/a 이렇게 되어있음\n",
    "\n",
    "5. 다시 파이썬 코드로 돌아가서 element 변수에 Xpath 저장 - > 클릭할 대상을 저장하는 과정\n",
    "\n",
    "6. 그리고 element 클릭\n"
   ]
  },
  {
   "cell_type": "code",
   "execution_count": 4,
   "id": "8c7bc15f-e0a3-40b1-ab6d-b9fe892c0028",
   "metadata": {},
   "outputs": [],
   "source": [
    "element = WebDriverWait(driver, 5).until(\n",
    "    EC.presence_of_element_located((By.XPATH, '//*[@id=\"PaginationContainer\"]/ul[1]/li[4]/a'))\n",
    ")\n",
    "element.click()"
   ]
  },
  {
   "cell_type": "markdown",
   "id": "0051586e-e955-499e-95ec-34a27b0eb4b4",
   "metadata": {},
   "source": [
    "## 4. 페이지로부터 데이터프레임 읽어오기\n",
    "\n",
    "1. page_html 에 지금 페이지의 html 텍스트 전체를 저장\n",
    "\n",
    "2. df_list에 StringIO를 통해 html 텍스트 가공한 내용들을 저장\n",
    "\n",
    "   df_list는 리스트 형태이긴 한데 리스트의 요소가 데이터프레임"
   ]
  },
  {
   "cell_type": "code",
   "execution_count": 5,
   "id": "b20729ec-b541-4a4b-8544-2450ec011aa2",
   "metadata": {},
   "outputs": [],
   "source": [
    "page_html = driver.page_source\n",
    "df_list = pd.read_html(StringIO(page_html))"
   ]
  },
  {
   "cell_type": "code",
   "execution_count": 6,
   "id": "65277f89-efb4-4965-bc10-c81c3826013a",
   "metadata": {},
   "outputs": [
    {
     "data": {
      "text/html": [
       "<div>\n",
       "<style scoped>\n",
       "    .dataframe tbody tr th:only-of-type {\n",
       "        vertical-align: middle;\n",
       "    }\n",
       "\n",
       "    .dataframe tbody tr th {\n",
       "        vertical-align: top;\n",
       "    }\n",
       "\n",
       "    .dataframe thead th {\n",
       "        text-align: right;\n",
       "    }\n",
       "</style>\n",
       "<table border=\"1\" class=\"dataframe\">\n",
       "  <thead>\n",
       "    <tr style=\"text-align: right;\">\n",
       "      <th></th>\n",
       "      <th>Symbol</th>\n",
       "      <th>Description</th>\n",
       "      <th>% Portfolio Weight</th>\n",
       "      <th>Shares Held</th>\n",
       "      <th>Market Value</th>\n",
       "    </tr>\n",
       "  </thead>\n",
       "  <tbody>\n",
       "    <tr>\n",
       "      <th>0</th>\n",
       "      <td>MSFT</td>\n",
       "      <td>Microsoft Corp</td>\n",
       "      <td>8.59%</td>\n",
       "      <td>53.8M</td>\n",
       "      <td>$22.0B</td>\n",
       "    </tr>\n",
       "    <tr>\n",
       "      <th>1</th>\n",
       "      <td>AAPL</td>\n",
       "      <td>Apple Inc</td>\n",
       "      <td>7.95%</td>\n",
       "      <td>111.9M</td>\n",
       "      <td>$20.4B</td>\n",
       "    </tr>\n",
       "    <tr>\n",
       "      <th>2</th>\n",
       "      <td>NVDA</td>\n",
       "      <td>NVIDIA Corp</td>\n",
       "      <td>6.39%</td>\n",
       "      <td>18.1M</td>\n",
       "      <td>$16.4B</td>\n",
       "    </tr>\n",
       "  </tbody>\n",
       "</table>\n",
       "</div>"
      ],
      "text/plain": [
       "  Symbol     Description % Portfolio Weight Shares Held Market Value\n",
       "0   MSFT  Microsoft Corp              8.59%       53.8M       $22.0B\n",
       "1   AAPL       Apple Inc              7.95%      111.9M       $20.4B\n",
       "2   NVDA     NVIDIA Corp              6.39%       18.1M       $16.4B"
      ]
     },
     "execution_count": 6,
     "metadata": {},
     "output_type": "execute_result"
    }
   ],
   "source": [
    "df_list[1].head(3)"
   ]
  },
  {
   "cell_type": "markdown",
   "id": "ec37a4ad-886f-4950-b174-83f359d4b614",
   "metadata": {},
   "source": [
    "## 5. 데이터프레임 추출\n",
    "\n",
    "1. 사실 원래대로라면 Xpath 저장하고 그거 대로 추출하는게 정석이지만\n",
    "   경험상 아무 숫자 찍어넣고 찾아보는게 훨씬 빠른듯 합니다\n",
    "\n",
    "2. df_holdings1 에 불러온 데이터 프레임 저장\n",
    "\n",
    "3. 날짜, 마지막 가격은 df_list[0]에 있음\n",
    "\n",
    "4. 날짜는 iloc[1]로 추출, 마지막 가격은 iloc[0]으로 추출 후 형식 에 맞게 가공"
   ]
  },
  {
   "cell_type": "code",
   "execution_count": 7,
   "id": "4681e1dd-7b64-4546-ba04-e5ce4b1f3439",
   "metadata": {},
   "outputs": [],
   "source": [
    "df_holdings1 = df_list[1]"
   ]
  },
  {
   "cell_type": "code",
   "execution_count": 8,
   "id": "db64a8c2-c1aa-4103-9306-44e012dc5d1e",
   "metadata": {},
   "outputs": [
    {
     "data": {
      "text/html": [
       "<div>\n",
       "<style scoped>\n",
       "    .dataframe tbody tr th:only-of-type {\n",
       "        vertical-align: middle;\n",
       "    }\n",
       "\n",
       "    .dataframe tbody tr th {\n",
       "        vertical-align: top;\n",
       "    }\n",
       "\n",
       "    .dataframe thead th {\n",
       "        text-align: right;\n",
       "    }\n",
       "</style>\n",
       "<table border=\"1\" class=\"dataframe\">\n",
       "  <thead>\n",
       "    <tr style=\"text-align: right;\">\n",
       "      <th></th>\n",
       "      <th>Symbol</th>\n",
       "      <th>Description</th>\n",
       "      <th>% Portfolio Weight</th>\n",
       "      <th>Shares Held</th>\n",
       "      <th>Market Value</th>\n",
       "    </tr>\n",
       "  </thead>\n",
       "  <tbody>\n",
       "    <tr>\n",
       "      <th>0</th>\n",
       "      <td>MSFT</td>\n",
       "      <td>Microsoft Corp</td>\n",
       "      <td>8.59%</td>\n",
       "      <td>53.8M</td>\n",
       "      <td>$22.0B</td>\n",
       "    </tr>\n",
       "    <tr>\n",
       "      <th>1</th>\n",
       "      <td>AAPL</td>\n",
       "      <td>Apple Inc</td>\n",
       "      <td>7.95%</td>\n",
       "      <td>111.9M</td>\n",
       "      <td>$20.4B</td>\n",
       "    </tr>\n",
       "    <tr>\n",
       "      <th>2</th>\n",
       "      <td>NVDA</td>\n",
       "      <td>NVIDIA Corp</td>\n",
       "      <td>6.39%</td>\n",
       "      <td>18.1M</td>\n",
       "      <td>$16.4B</td>\n",
       "    </tr>\n",
       "  </tbody>\n",
       "</table>\n",
       "</div>"
      ],
      "text/plain": [
       "  Symbol     Description % Portfolio Weight Shares Held Market Value\n",
       "0   MSFT  Microsoft Corp              8.59%       53.8M       $22.0B\n",
       "1   AAPL       Apple Inc              7.95%      111.9M       $20.4B\n",
       "2   NVDA     NVIDIA Corp              6.39%       18.1M       $16.4B"
      ]
     },
     "execution_count": 8,
     "metadata": {},
     "output_type": "execute_result"
    }
   ],
   "source": [
    "df_holdings1.head(3)"
   ]
  },
  {
   "cell_type": "code",
   "execution_count": 9,
   "id": "bc8902a8-0a98-4bf6-a08b-007c75d80b40",
   "metadata": {},
   "outputs": [
    {
     "data": {
      "text/html": [
       "<div>\n",
       "<style scoped>\n",
       "    .dataframe tbody tr th:only-of-type {\n",
       "        vertical-align: middle;\n",
       "    }\n",
       "\n",
       "    .dataframe tbody tr th {\n",
       "        vertical-align: top;\n",
       "    }\n",
       "\n",
       "    .dataframe thead th {\n",
       "        text-align: right;\n",
       "    }\n",
       "</style>\n",
       "<table border=\"1\" class=\"dataframe\">\n",
       "  <thead>\n",
       "    <tr style=\"text-align: right;\">\n",
       "      <th></th>\n",
       "      <th>Last Price</th>\n",
       "      <th>Unnamed: 1</th>\n",
       "      <th>Today's Change</th>\n",
       "      <th>Unnamed: 3</th>\n",
       "      <th>Bid/Size</th>\n",
       "      <th>Unnamed: 5</th>\n",
       "      <th>Ask/Size</th>\n",
       "      <th>Unnamed: 7</th>\n",
       "      <th>Today's Volume</th>\n",
       "      <th>Unnamed: 9</th>\n",
       "    </tr>\n",
       "  </thead>\n",
       "  <tbody>\n",
       "    <tr>\n",
       "      <th>0</th>\n",
       "      <td>$442.06</td>\n",
       "      <td>NaN</td>\n",
       "      <td>+1.04 (0.24%)</td>\n",
       "      <td>NaN</td>\n",
       "      <td>$441.22/1</td>\n",
       "      <td>NaN</td>\n",
       "      <td>$441.25/1</td>\n",
       "      <td>NaN</td>\n",
       "      <td>27,116,566 Below Avg.</td>\n",
       "      <td>NaN</td>\n",
       "    </tr>\n",
       "    <tr>\n",
       "      <th>1</th>\n",
       "      <td>As of close 05/10/2024</td>\n",
       "      <td>As of close 05/10/2024</td>\n",
       "      <td>As of close 05/10/2024</td>\n",
       "      <td>As of close 05/10/2024</td>\n",
       "      <td>As of close 05/10/2024</td>\n",
       "      <td>As of close 05/10/2024</td>\n",
       "      <td>As of close 05/10/2024</td>\n",
       "      <td>As of close 05/10/2024</td>\n",
       "      <td>As of close 05/10/2024</td>\n",
       "      <td>As of close 05/10/2024</td>\n",
       "    </tr>\n",
       "  </tbody>\n",
       "</table>\n",
       "</div>"
      ],
      "text/plain": [
       "               Last Price              Unnamed: 1          Today's Change  \\\n",
       "0                 $442.06                     NaN           +1.04 (0.24%)   \n",
       "1  As of close 05/10/2024  As of close 05/10/2024  As of close 05/10/2024   \n",
       "\n",
       "               Unnamed: 3                Bid/Size              Unnamed: 5  \\\n",
       "0                     NaN               $441.22/1                     NaN   \n",
       "1  As of close 05/10/2024  As of close 05/10/2024  As of close 05/10/2024   \n",
       "\n",
       "                 Ask/Size              Unnamed: 7          Today's Volume  \\\n",
       "0               $441.25/1                     NaN   27,116,566 Below Avg.   \n",
       "1  As of close 05/10/2024  As of close 05/10/2024  As of close 05/10/2024   \n",
       "\n",
       "               Unnamed: 9  \n",
       "0                     NaN  \n",
       "1  As of close 05/10/2024  "
      ]
     },
     "execution_count": 9,
     "metadata": {},
     "output_type": "execute_result"
    }
   ],
   "source": [
    "df_list[0]"
   ]
  },
  {
   "cell_type": "code",
   "execution_count": 10,
   "id": "a659d044-b448-4e4d-a368-17eb8189a8b4",
   "metadata": {},
   "outputs": [],
   "source": [
    "date = df_list[0][\"Last Price\"].iloc[1].replace(\"As of close\\xa0\", \"\")\n",
    "last_price = float(df_list[0][\"Last Price\"].iloc[0].replace(\"$\", \"\"))"
   ]
  },
  {
   "cell_type": "code",
   "execution_count": 11,
   "id": "e8d16898-d397-40d4-8070-246e4d16fb0b",
   "metadata": {},
   "outputs": [
    {
     "data": {
      "text/plain": [
       "442.06"
      ]
     },
     "execution_count": 11,
     "metadata": {},
     "output_type": "execute_result"
    }
   ],
   "source": [
    "last_price"
   ]
  },
  {
   "cell_type": "code",
   "execution_count": 12,
   "id": "1f48c343-2a64-453a-a06a-17f7645b12ec",
   "metadata": {},
   "outputs": [
    {
     "data": {
      "text/plain": [
       "'05/10/2024'"
      ]
     },
     "execution_count": 12,
     "metadata": {},
     "output_type": "execute_result"
    }
   ],
   "source": [
    "date"
   ]
  },
  {
   "cell_type": "markdown",
   "id": "4d1be9a1-1842-4d60-b0f7-86b974941a74",
   "metadata": {},
   "source": [
    "## 6. 2페이지로 넘어가기\n",
    "\n",
    "1. element2에 < Previous 1 2 Next > 중 2번 버튼의 Xpath를 Copy Xpath를 통해 복사해서 저장\n",
    "\n",
    "2. element2.click()으로 2페이지로 넘어가기"
   ]
  },
  {
   "cell_type": "code",
   "execution_count": 13,
   "id": "40c21dee-cf0d-4dec-9497-4952dd61fc8f",
   "metadata": {},
   "outputs": [],
   "source": [
    "element2 = WebDriverWait(driver, 5).until(\n",
    "    EC.presence_of_element_located((By.XPATH, '//*[@id=\"PaginationContainer\"]/ul[2]/li[3]/a'))\n",
    ")\n",
    "element2.click()\n"
   ]
  },
  {
   "cell_type": "markdown",
   "id": "86bb17f8-8c4e-4669-86d5-542b535cf0b0",
   "metadata": {},
   "source": [
    "## 7. 페이지로부터 데이터프레임 읽어오기\n",
    "\n",
    "1. page_html2 에 지금 페이지의 html 텍스트 전체를 저장\n",
    "\n",
    "2. df_lis2t에 StringIO를 통해 html 텍스트 가공한 내용들을 저장"
   ]
  },
  {
   "cell_type": "code",
   "execution_count": 14,
   "id": "8ea11664-1a5c-45a3-9c91-9404044c2c07",
   "metadata": {},
   "outputs": [],
   "source": [
    "page_html2 = driver.page_source\n",
    "df_list2 = pd.read_html(StringIO(page_html2))"
   ]
  },
  {
   "cell_type": "markdown",
   "id": "4762f36d-6193-411f-8c46-bd7b9a0d7f0a",
   "metadata": {},
   "source": [
    "## 8. 데이터프레임 추출\n",
    "\n",
    "\n",
    "1. df_holdings2 에 불러온 데이터 프레임 저장\n",
    "\n",
    "2. 날짜, 마지막 가격은 df_list[0]에 있음\n",
    "\n",
    "3. 날짜는 iloc[1]로 추출, 마지막 가격은 iloc[0]으로 추출 후 형식 에 맞게 가공"
   ]
  },
  {
   "cell_type": "code",
   "execution_count": 15,
   "id": "17e075fd-adfa-41ee-893d-abbcd608696e",
   "metadata": {},
   "outputs": [
    {
     "data": {
      "text/html": [
       "<div>\n",
       "<style scoped>\n",
       "    .dataframe tbody tr th:only-of-type {\n",
       "        vertical-align: middle;\n",
       "    }\n",
       "\n",
       "    .dataframe tbody tr th {\n",
       "        vertical-align: top;\n",
       "    }\n",
       "\n",
       "    .dataframe thead th {\n",
       "        text-align: right;\n",
       "    }\n",
       "</style>\n",
       "<table border=\"1\" class=\"dataframe\">\n",
       "  <thead>\n",
       "    <tr style=\"text-align: right;\">\n",
       "      <th></th>\n",
       "      <th>Symbol</th>\n",
       "      <th>Description</th>\n",
       "      <th>% Portfolio Weight</th>\n",
       "      <th>Shares Held</th>\n",
       "      <th>Market Value</th>\n",
       "    </tr>\n",
       "  </thead>\n",
       "  <tbody>\n",
       "    <tr>\n",
       "      <th>0</th>\n",
       "      <td>MRNA</td>\n",
       "      <td>Moderna Inc</td>\n",
       "      <td>0.34%</td>\n",
       "      <td>7.1M</td>\n",
       "      <td>$865.4M</td>\n",
       "    </tr>\n",
       "    <tr>\n",
       "      <th>1</th>\n",
       "      <td>KDP</td>\n",
       "      <td>Keurig Dr Pepper Inc</td>\n",
       "      <td>0.34%</td>\n",
       "      <td>26.0M</td>\n",
       "      <td>$877.7M</td>\n",
       "    </tr>\n",
       "    <tr>\n",
       "      <th>2</th>\n",
       "      <td>AEP</td>\n",
       "      <td>American Electric Power Co Inc</td>\n",
       "      <td>0.34%</td>\n",
       "      <td>9.8M</td>\n",
       "      <td>$884.7M</td>\n",
       "    </tr>\n",
       "  </tbody>\n",
       "</table>\n",
       "</div>"
      ],
      "text/plain": [
       "  Symbol                     Description % Portfolio Weight Shares Held  \\\n",
       "0   MRNA                     Moderna Inc              0.34%        7.1M   \n",
       "1    KDP            Keurig Dr Pepper Inc              0.34%       26.0M   \n",
       "2    AEP  American Electric Power Co Inc              0.34%        9.8M   \n",
       "\n",
       "  Market Value  \n",
       "0      $865.4M  \n",
       "1      $877.7M  \n",
       "2      $884.7M  "
      ]
     },
     "execution_count": 15,
     "metadata": {},
     "output_type": "execute_result"
    }
   ],
   "source": [
    "df_holdings2 = df_list2[1]\n",
    "df_holdings2.head(3)"
   ]
  },
  {
   "cell_type": "markdown",
   "id": "283e5f11-57d3-4085-877f-cf67d86083ee",
   "metadata": {},
   "source": [
    "## 9. 데이터 병합"
   ]
  },
  {
   "cell_type": "code",
   "execution_count": 16,
   "id": "581f9414-a9a8-4503-bda2-9f6ce31ae06b",
   "metadata": {},
   "outputs": [],
   "source": [
    "df = pd.concat([df_holdings1,df_holdings2],axis=0)"
   ]
  },
  {
   "cell_type": "code",
   "execution_count": 17,
   "id": "38522f46-28d8-4522-9207-b4ddeeae7e54",
   "metadata": {},
   "outputs": [
    {
     "data": {
      "text/html": [
       "<div>\n",
       "<style scoped>\n",
       "    .dataframe tbody tr th:only-of-type {\n",
       "        vertical-align: middle;\n",
       "    }\n",
       "\n",
       "    .dataframe tbody tr th {\n",
       "        vertical-align: top;\n",
       "    }\n",
       "\n",
       "    .dataframe thead th {\n",
       "        text-align: right;\n",
       "    }\n",
       "</style>\n",
       "<table border=\"1\" class=\"dataframe\">\n",
       "  <thead>\n",
       "    <tr style=\"text-align: right;\">\n",
       "      <th></th>\n",
       "      <th>Symbol</th>\n",
       "      <th>Description</th>\n",
       "      <th>% Portfolio Weight</th>\n",
       "      <th>Shares Held</th>\n",
       "      <th>Market Value</th>\n",
       "    </tr>\n",
       "  </thead>\n",
       "  <tbody>\n",
       "    <tr>\n",
       "      <th>0</th>\n",
       "      <td>MSFT</td>\n",
       "      <td>Microsoft Corp</td>\n",
       "      <td>8.59%</td>\n",
       "      <td>53.8M</td>\n",
       "      <td>$22.0B</td>\n",
       "    </tr>\n",
       "    <tr>\n",
       "      <th>1</th>\n",
       "      <td>AAPL</td>\n",
       "      <td>Apple Inc</td>\n",
       "      <td>7.95%</td>\n",
       "      <td>111.9M</td>\n",
       "      <td>$20.4B</td>\n",
       "    </tr>\n",
       "    <tr>\n",
       "      <th>2</th>\n",
       "      <td>NVDA</td>\n",
       "      <td>NVIDIA Corp</td>\n",
       "      <td>6.39%</td>\n",
       "      <td>18.1M</td>\n",
       "      <td>$16.4B</td>\n",
       "    </tr>\n",
       "    <tr>\n",
       "      <th>3</th>\n",
       "      <td>AMZN</td>\n",
       "      <td>Amazon.com Inc</td>\n",
       "      <td>5.53%</td>\n",
       "      <td>75.2M</td>\n",
       "      <td>$14.2B</td>\n",
       "    </tr>\n",
       "    <tr>\n",
       "      <th>4</th>\n",
       "      <td>META</td>\n",
       "      <td>Meta Platforms Inc Class A</td>\n",
       "      <td>4.63%</td>\n",
       "      <td>25.4M</td>\n",
       "      <td>$11.9B</td>\n",
       "    </tr>\n",
       "    <tr>\n",
       "      <th>...</th>\n",
       "      <td>...</td>\n",
       "      <td>...</td>\n",
       "      <td>...</td>\n",
       "      <td>...</td>\n",
       "      <td>...</td>\n",
       "    </tr>\n",
       "    <tr>\n",
       "      <th>37</th>\n",
       "      <td>WBD</td>\n",
       "      <td>Warner Bros. Discovery Inc Ordinary Shar...</td>\n",
       "      <td>0.14%</td>\n",
       "      <td>45.6M</td>\n",
       "      <td>$354.7M</td>\n",
       "    </tr>\n",
       "    <tr>\n",
       "      <th>38</th>\n",
       "      <td>ILMN</td>\n",
       "      <td>Illumina Inc</td>\n",
       "      <td>0.13%</td>\n",
       "      <td>3.0M</td>\n",
       "      <td>$335.4M</td>\n",
       "    </tr>\n",
       "    <tr>\n",
       "      <th>39</th>\n",
       "      <td>WBA</td>\n",
       "      <td>Walgreens Boots Alliance Inc</td>\n",
       "      <td>0.11%</td>\n",
       "      <td>16.1M</td>\n",
       "      <td>$279.9M</td>\n",
       "    </tr>\n",
       "    <tr>\n",
       "      <th>40</th>\n",
       "      <td>SIRI</td>\n",
       "      <td>Sirius XM Holdings Inc</td>\n",
       "      <td>0.09%</td>\n",
       "      <td>71.9M</td>\n",
       "      <td>$225.0M</td>\n",
       "    </tr>\n",
       "    <tr>\n",
       "      <th>41</th>\n",
       "      <td>--</td>\n",
       "      <td>Cash</td>\n",
       "      <td>0.09%</td>\n",
       "      <td>241.6M</td>\n",
       "      <td>$241.6M</td>\n",
       "    </tr>\n",
       "  </tbody>\n",
       "</table>\n",
       "<p>102 rows × 5 columns</p>\n",
       "</div>"
      ],
      "text/plain": [
       "   Symbol                                  Description % Portfolio Weight  \\\n",
       "0    MSFT                               Microsoft Corp              8.59%   \n",
       "1    AAPL                                    Apple Inc              7.95%   \n",
       "2    NVDA                                  NVIDIA Corp              6.39%   \n",
       "3    AMZN                               Amazon.com Inc              5.53%   \n",
       "4    META                   Meta Platforms Inc Class A              4.63%   \n",
       "..    ...                                          ...                ...   \n",
       "37    WBD  Warner Bros. Discovery Inc Ordinary Shar...              0.14%   \n",
       "38   ILMN                                 Illumina Inc              0.13%   \n",
       "39    WBA                 Walgreens Boots Alliance Inc              0.11%   \n",
       "40   SIRI                       Sirius XM Holdings Inc              0.09%   \n",
       "41     --                                         Cash              0.09%   \n",
       "\n",
       "   Shares Held Market Value  \n",
       "0        53.8M       $22.0B  \n",
       "1       111.9M       $20.4B  \n",
       "2        18.1M       $16.4B  \n",
       "3        75.2M       $14.2B  \n",
       "4        25.4M       $11.9B  \n",
       "..         ...          ...  \n",
       "37       45.6M      $354.7M  \n",
       "38        3.0M      $335.4M  \n",
       "39       16.1M      $279.9M  \n",
       "40       71.9M      $225.0M  \n",
       "41      241.6M      $241.6M  \n",
       "\n",
       "[102 rows x 5 columns]"
      ]
     },
     "execution_count": 17,
     "metadata": {},
     "output_type": "execute_result"
    }
   ],
   "source": [
    "df"
   ]
  },
  {
   "cell_type": "markdown",
   "id": "b4717aaf-5d7a-48bb-981e-e9f90741566e",
   "metadata": {},
   "source": [
    "## 10. 파일로 저장\n",
    "\n",
    "csv파일은 가끔씩 오류날때가 있어서 일단 xlsx로 저장"
   ]
  },
  {
   "cell_type": "code",
   "execution_count": 18,
   "id": "2a92a993-d740-4f24-9e3f-85e88bc766ca",
   "metadata": {},
   "outputs": [],
   "source": [
    "df.to_excel('QQQ.xlsx',index=False)"
   ]
  },
  {
   "cell_type": "code",
   "execution_count": null,
   "id": "92c2b529-9778-452f-9c0a-8407b5ce46ce",
   "metadata": {},
   "outputs": [],
   "source": []
  },
  {
   "cell_type": "code",
   "execution_count": null,
   "id": "c4f5a56d-9e96-48bb-879a-19a105ef60aa",
   "metadata": {},
   "outputs": [],
   "source": []
  },
  {
   "attachments": {
    "1dc9f3cc-473f-4e19-a779-089a3de0039a.png": {
     "image/png": "[encoded data removed]"
    },
    "7f0d333b-28d7-4074-a93e-ca0db9e0f055.png": {
     "image/png": "[encoded data removed]"
    },
    "83402372-ec98-4e45-860c-b70fcdb47ee0.png": {
     "image/png": "[encoded data removed]"
    },
    "d5218a64-c5be-45e9-bb69-cbad9e7be254.png": {
     "image/png": "[encoded data removed]"
    },
    "f79261e9-c9be-4631-aa28-0bd4adcef4a0.png": {
     "image/png": "[encoded data removed]"
    }
   },
   "cell_type": "markdown",
   "id": "01901a6c-de61-4311-85d6-ebb051f09305",
   "metadata": {},
   "source": [
    "## 크롬 드라이버 설치\n",
    "\n",
    "![image.png](attachment:d5218a64-c5be-45e9-bb69-cbad9e7be254.png)\n",
    "\n",
    "![image.png](attachment:7f0d333b-28d7-4074-a93e-ca0db9e0f055.png)\n",
    "\n",
    "확인하시면 버전 124.0.6367 버전임을 확인할 수 있습니다\n",
    "\n",
    "https://googlechromelabs.github.io/chrome-for-testing/\n",
    "\n",
    "이 링크에서\n",
    "\n",
    "![image.png](attachment:83402372-ec98-4e45-860c-b70fcdb47ee0.png)\n",
    "\n",
    "stable의 chromedriver win64의 링크를 복사해서 접속하면 설치가 완료 된다\n",
    "\n",
    "설치가 완료되었으면 압축을 풀면 된다\n",
    "\n",
    "경로가 생각보다 복잡해서\n",
    "\n",
    "저는 문서 파일에 저장해두었습니다.\n",
    "\n",
    "![image.png](attachment:1dc9f3cc-473f-4e19-a779-089a3de0039a.png)\n",
    "\n",
    "그 폴더 들어가시면 chromedriver.exe가 있다면 설치 완료입니다.\n",
    "\n",
    "![image.png](attachment:f79261e9-c9be-4631-aa28-0bd4adcef4a0.png)"
   ]
  },
  {
   "cell_type": "code",
   "execution_count": null,
   "id": "ee940bba-d88a-4d6b-adc4-f1903bf1b568",
   "metadata": {},
   "outputs": [],
   "source": []
  },
  {
   "cell_type": "markdown",
   "id": "8c6625e3-84db-46cc-8404-2b9b41b99611",
   "metadata": {},
   "source": [
    "## 아나콘다 설치 \n",
    "\n",
    "https://www.youtube.com/watch?v=YNej6WeVpD4"
   ]
  },
  {
   "cell_type": "markdown",
   "id": "d53174ed-62f8-4437-a44f-ef39ecdf3256",
   "metadata": {},
   "source": []
  }
 ],
 "metadata": {
  "kernelspec": {
   "display_name": "Python 3 (ipykernel)",
   "language": "python",
   "name": "python3"
  },
  "language_info": {
   "codemirror_mode": {
    "name": "ipython",
    "version": 3
   },
   "file_extension": ".py",
   "mimetype": "text/x-python",
   "name": "python",
   "nbconvert_exporter": "python",
   "pygments_lexer": "ipython3",
   "version": "3.11.7"
  }
 },
 "nbformat": 4,
 "nbformat_minor": 5
}
